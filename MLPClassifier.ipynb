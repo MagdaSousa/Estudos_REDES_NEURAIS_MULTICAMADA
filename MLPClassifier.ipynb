{
  "nbformat": 4,
  "nbformat_minor": 0,
  "metadata": {
    "colab": {
      "name": "MLPClassifier.ipynb",
      "provenance": [],
      "authorship_tag": "ABX9TyOYot+TWMj98OD0slEfXHnQ",
      "include_colab_link": true
    },
    "kernelspec": {
      "name": "python3",
      "display_name": "Python 3"
    }
  },
  "cells": [
    {
      "cell_type": "markdown",
      "metadata": {
        "id": "view-in-github",
        "colab_type": "text"
      },
      "source": [
        "<a href=\"https://colab.research.google.com/github/MagdaSousa/Estudos_REDES_NEURAIS_MULTICAMADA/blob/main/MLPClassifier.ipynb\" target=\"_parent\"><img src=\"https://colab.research.google.com/assets/colab-badge.svg\" alt=\"Open In Colab\"/></a>"
      ]
    },
    {
      "cell_type": "markdown",
      "metadata": {
        "id": "q4_Cr7dioWHh"
      },
      "source": [
        "#Treinamento de uma rede neural com o dataSet Iris"
      ]
    },
    {
      "cell_type": "code",
      "metadata": {
        "id": "ad9iDMxeoWbv"
      },
      "source": [
        "from sklearn.neural_network import MLPClassifier\n",
        "from sklearn import datasets # Utilizarei o dataset iris que já contém no pacote do sklearn\n",
        "\n",
        "iris =datasets.load_iris()\n",
        "entradas = iris.data # extraindo os dados com as carcterísticas da flores\n",
        "saidas =iris.target\n"
      ],
      "execution_count": 16,
      "outputs": []
    },
    {
      "cell_type": "markdown",
      "metadata": {
        "id": "RzJj2AsuzFRD"
      },
      "source": [
        "#verificando as características do Dataset Iris  \n",
        "A classificação desse dataset leva em consideração 4 características:  \n",
        "'sepal length (cm)-> largura da sepal  \n",
        "'sepal width (cm)'-> tamanho da sepal  \n",
        "'petal length (cm)'-> largura da petala  \n",
        "'petal width (cm)'-> tamanho da petala  "
      ]
    },
    {
      "cell_type": "code",
      "metadata": {
        "colab": {
          "base_uri": "https://localhost:8080/"
        },
        "id": "7rOeGX0fzEtL",
        "outputId": "2739fe49-03aa-457f-cba4-2aae58ee3e85"
      },
      "source": [
        "iris.feature_names\n"
      ],
      "execution_count": 20,
      "outputs": [
        {
          "output_type": "execute_result",
          "data": {
            "text/plain": [
              "['sepal length (cm)',\n",
              " 'sepal width (cm)',\n",
              " 'petal length (cm)',\n",
              " 'petal width (cm)']"
            ]
          },
          "metadata": {
            "tags": []
          },
          "execution_count": 20
        }
      ]
    },
    {
      "cell_type": "markdown",
      "metadata": {
        "id": "HqT_KkLD1JUc"
      },
      "source": [
        "Existem três classes de fores neste dataset: \n",
        "\n",
        "['setosa', 'versicolor', 'virginica']  \n",
        "Sendo que ao usar o dataset, esses nomes são 'covertidos' em números, então 0-setosa,1- versicolor e 2-virginia"
      ]
    },
    {
      "cell_type": "code",
      "metadata": {
        "colab": {
          "base_uri": "https://localhost:8080/"
        },
        "id": "so-rApt00xq6",
        "outputId": "01e02503-dabb-4789-fdb3-7ce29b961ca7"
      },
      "source": [
        "iris.target_names"
      ],
      "execution_count": 24,
      "outputs": [
        {
          "output_type": "execute_result",
          "data": {
            "text/plain": [
              "array(['setosa', 'versicolor', 'virginica'], dtype='<U10')"
            ]
          },
          "metadata": {
            "tags": []
          },
          "execution_count": 24
        }
      ]
    },
    {
      "cell_type": "code",
      "metadata": {
        "id": "4WE6UT78y5TV"
      },
      "source": [
        "rede_neural =MLPClassifier(\n",
        "    verbose =True, # mostrar as perdas e número de iterações\n",
        "    activation='logistic',# tipo de algoritmo de ativação\n",
        "    max_iter =1000,# valor máximo de iterações\n",
        "    tol=0.0001,\n",
        "    learning_rate_init=0.3# \n",
        "\n",
        ")\n",
        "\n"
      ],
      "execution_count": 17,
      "outputs": []
    },
    {
      "cell_type": "markdown",
      "metadata": {
        "id": "m2PL-pSn_XrV"
      },
      "source": [
        "Treinando a rede neural com os dados característicos do dataset  \n",
        "Iteration- número de iterações;\n",
        "loss->valor da perga ou erro do modelo a cada iteração"
      ]
    },
    {
      "cell_type": "code",
      "metadata": {
        "colab": {
          "base_uri": "https://localhost:8080/"
        },
        "id": "3Ua9A_oly7ZG",
        "outputId": "ee0acd65-7a14-41bb-a1a1-2647da3e6aaa"
      },
      "source": [
        "rede_neural.fit(entradas,saidas)"
      ],
      "execution_count": 18,
      "outputs": [
        {
          "output_type": "stream",
          "text": [
            "Iteration 1, loss = 1.17544701\n",
            "Iteration 2, loss = 16.87384629\n",
            "Iteration 3, loss = 4.09454484\n",
            "Iteration 4, loss = 3.52273615\n",
            "Iteration 5, loss = 2.29929593\n",
            "Iteration 6, loss = 1.94759527\n",
            "Iteration 7, loss = 1.77930586\n",
            "Iteration 8, loss = 1.46707476\n",
            "Iteration 9, loss = 1.17516865\n",
            "Iteration 10, loss = 0.73734490\n",
            "Iteration 11, loss = 0.54863946\n",
            "Iteration 12, loss = 0.40656495\n",
            "Iteration 13, loss = 0.51514814\n",
            "Iteration 14, loss = 0.49739015\n",
            "Iteration 15, loss = 0.49401004\n",
            "Iteration 16, loss = 0.46510895\n",
            "Iteration 17, loss = 0.42089769\n",
            "Iteration 18, loss = 0.37356396\n",
            "Iteration 19, loss = 0.33942213\n",
            "Iteration 20, loss = 0.31192496\n",
            "Iteration 21, loss = 0.27173179\n",
            "Iteration 22, loss = 0.22842393\n",
            "Iteration 23, loss = 0.23254881\n",
            "Iteration 24, loss = 0.22562032\n",
            "Iteration 25, loss = 0.18058384\n",
            "Iteration 26, loss = 0.19110170\n",
            "Iteration 27, loss = 0.20102930\n",
            "Iteration 28, loss = 0.13326729\n",
            "Iteration 29, loss = 0.19155076\n",
            "Iteration 30, loss = 0.11137231\n",
            "Iteration 31, loss = 0.15483217\n",
            "Iteration 32, loss = 0.09897764\n",
            "Iteration 33, loss = 0.13742677\n",
            "Iteration 34, loss = 0.08527652\n",
            "Iteration 35, loss = 0.10701585\n",
            "Iteration 36, loss = 0.08933722\n",
            "Iteration 37, loss = 0.10269125\n",
            "Iteration 38, loss = 0.08806636\n",
            "Iteration 39, loss = 0.08906956\n",
            "Iteration 40, loss = 0.08384582\n",
            "Iteration 41, loss = 0.07449893\n",
            "Iteration 42, loss = 0.08010571\n",
            "Iteration 43, loss = 0.07128380\n",
            "Iteration 44, loss = 0.07703297\n",
            "Iteration 45, loss = 0.06691273\n",
            "Iteration 46, loss = 0.07643998\n",
            "Iteration 47, loss = 0.06620335\n",
            "Iteration 48, loss = 0.07251588\n",
            "Iteration 49, loss = 0.06503081\n",
            "Iteration 50, loss = 0.07075402\n",
            "Iteration 51, loss = 0.06281031\n",
            "Iteration 52, loss = 0.06658254\n",
            "Iteration 53, loss = 0.06136562\n",
            "Iteration 54, loss = 0.06496898\n",
            "Iteration 55, loss = 0.05967689\n",
            "Iteration 56, loss = 0.06229919\n",
            "Iteration 57, loss = 0.05861402\n",
            "Iteration 58, loss = 0.06129012\n",
            "Iteration 59, loss = 0.05782902\n",
            "Iteration 60, loss = 0.05939626\n",
            "Iteration 61, loss = 0.05690051\n",
            "Iteration 62, loss = 0.05825741\n",
            "Iteration 63, loss = 0.05664861\n",
            "Iteration 64, loss = 0.05684906\n",
            "Iteration 65, loss = 0.05602955\n",
            "Iteration 66, loss = 0.05551437\n",
            "Iteration 67, loss = 0.05568924\n",
            "Iteration 68, loss = 0.05464347\n",
            "Iteration 69, loss = 0.05528936\n",
            "Iteration 70, loss = 0.05389982\n",
            "Iteration 71, loss = 0.05446799\n",
            "Iteration 72, loss = 0.05350039\n",
            "Iteration 73, loss = 0.05371370\n",
            "Iteration 74, loss = 0.05335014\n",
            "Iteration 75, loss = 0.05294975\n",
            "Iteration 76, loss = 0.05310397\n",
            "Iteration 77, loss = 0.05235788\n",
            "Iteration 78, loss = 0.05258302\n",
            "Iteration 79, loss = 0.05204490\n",
            "Iteration 80, loss = 0.05199120\n",
            "Iteration 81, loss = 0.05183664\n",
            "Iteration 82, loss = 0.05141863\n",
            "Iteration 83, loss = 0.05147932\n",
            "Iteration 84, loss = 0.05098828\n",
            "Iteration 85, loss = 0.05089662\n",
            "Iteration 86, loss = 0.05070615\n",
            "Iteration 87, loss = 0.05040736\n",
            "Iteration 88, loss = 0.05041144\n",
            "Iteration 89, loss = 0.05012116\n",
            "Iteration 90, loss = 0.05003316\n",
            "Iteration 91, loss = 0.04989980\n",
            "Iteration 92, loss = 0.04961981\n",
            "Iteration 93, loss = 0.04950149\n",
            "Iteration 94, loss = 0.04902565\n",
            "Iteration 95, loss = 0.04934582\n",
            "Iteration 96, loss = 0.05212400\n",
            "Iteration 97, loss = 0.05050920\n",
            "Iteration 98, loss = 0.04888211\n",
            "Iteration 99, loss = 0.05071338\n",
            "Iteration 100, loss = 0.04873697\n",
            "Iteration 101, loss = 0.04906585\n",
            "Iteration 102, loss = 0.04982910\n",
            "Iteration 103, loss = 0.04936596\n",
            "Iteration 104, loss = 0.05064080\n",
            "Iteration 105, loss = 0.04935469\n",
            "Iteration 106, loss = 0.04857852\n",
            "Iteration 107, loss = 0.05023591\n",
            "Iteration 108, loss = 0.04831907\n",
            "Iteration 109, loss = 0.04895175\n",
            "Iteration 110, loss = 0.04968010\n",
            "Iteration 111, loss = 0.04791853\n",
            "Iteration 112, loss = 0.04914878\n",
            "Iteration 113, loss = 0.04936925\n",
            "Iteration 114, loss = 0.04769184\n",
            "Iteration 115, loss = 0.04919868\n",
            "Iteration 116, loss = 0.04925924\n",
            "Iteration 117, loss = 0.04747885\n",
            "Iteration 118, loss = 0.04917306\n",
            "Iteration 119, loss = 0.04934175\n",
            "Iteration 120, loss = 0.04725631\n",
            "Iteration 121, loss = 0.04913155\n",
            "Iteration 122, loss = 0.04962798\n",
            "Iteration 123, loss = 0.04704150\n",
            "Iteration 124, loss = 0.04911679\n",
            "Iteration 125, loss = 0.05013708\n",
            "Iteration 126, loss = 0.04685531\n",
            "Iteration 127, loss = 0.04917423\n",
            "Iteration 128, loss = 0.05089856\n",
            "Iteration 129, loss = 0.04670255\n",
            "Iteration 130, loss = 0.04938702\n",
            "Iteration 131, loss = 0.05200097\n",
            "Iteration 132, loss = 0.04656225\n",
            "Iteration 133, loss = 0.04996635\n",
            "Iteration 134, loss = 0.05375906\n",
            "Iteration 135, loss = 0.04638591\n",
            "Iteration 136, loss = 0.05157322\n",
            "Iteration 137, loss = 0.05727531\n",
            "Iteration 138, loss = 0.04614072\n",
            "Iteration 139, loss = 0.05691364\n",
            "Iteration 140, loss = 0.06697489\n",
            "Iteration 141, loss = 0.04703259\n",
            "Iteration 142, loss = 0.08102551\n",
            "Iteration 143, loss = 0.10228922\n",
            "Iteration 144, loss = 0.07482999\n",
            "Iteration 145, loss = 0.12946632\n",
            "Iteration 146, loss = 0.10153818\n",
            "Iteration 147, loss = 0.12127319\n",
            "Iteration 148, loss = 0.05413645\n",
            "Iteration 149, loss = 0.11428417\n",
            "Training loss did not improve more than tol=0.000100 for 10 consecutive epochs. Stopping.\n"
          ],
          "name": "stdout"
        },
        {
          "output_type": "execute_result",
          "data": {
            "text/plain": [
              "MLPClassifier(activation='logistic', alpha=0.0001, batch_size='auto',\n",
              "              beta_1=0.9, beta_2=0.999, early_stopping=False, epsilon=1e-08,\n",
              "              hidden_layer_sizes=(100,), learning_rate='constant',\n",
              "              learning_rate_init=0.3, max_fun=15000, max_iter=1000,\n",
              "              momentum=0.9, n_iter_no_change=10, nesterovs_momentum=True,\n",
              "              power_t=0.5, random_state=None, shuffle=True, solver='adam',\n",
              "              tol=0.0001, validation_fraction=0.1, verbose=True,\n",
              "              warm_start=False)"
            ]
          },
          "metadata": {
            "tags": []
          },
          "execution_count": 18
        }
      ]
    },
    {
      "cell_type": "markdown",
      "metadata": {
        "id": "_ihcdDg2_z0V"
      },
      "source": [
        "Agora que a rede neural foi treinada, com base no dataset, passaremos valores para verificar se ela está acertando:"
      ]
    },
    {
      "cell_type": "code",
      "metadata": {
        "colab": {
          "base_uri": "https://localhost:8080/"
        },
        "id": "tySjo_gRt7PO",
        "outputId": "4ff634f8-d773-46b0-e53e-9307640bd794"
      },
      "source": [
        "rede_neural.predict([[5.1,3.5,1.4,0.2]])"
      ],
      "execution_count": 86,
      "outputs": [
        {
          "output_type": "execute_result",
          "data": {
            "text/plain": [
              "array([0])"
            ]
          },
          "metadata": {
            "tags": []
          },
          "execution_count": 86
        }
      ]
    }
  ]
}